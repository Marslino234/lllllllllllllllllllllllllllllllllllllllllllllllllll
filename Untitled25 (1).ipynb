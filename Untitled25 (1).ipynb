{
 "cells": [
  {
   "cell_type": "code",
   "execution_count": 30,
   "id": "511c60e4-86a4-4e7d-bc0a-b557ead27d0b",
   "metadata": {},
   "outputs": [],
   "source": [
    "def is_prime(m):\n",
    "    if m <= 1:\n",
    "        return false \n",
    "    for m in range(2, int(n**0.5) + 1):\n",
    "        if m % i == 0:\n",
    "            return false\n",
    "        "
   ]
  },
  {
   "cell_type": "code",
   "execution_count": 7,
   "id": "a9d79aea-a5b9-453c-964a-8afe32e2f599",
   "metadata": {},
   "outputs": [
    {
     "name": "stdout",
     "output_type": "stream",
     "text": [
      "Add: 7\n",
      "Subtract: -3\n",
      "Multiply: 10\n",
      "Divide: error\n"
     ]
    }
   ],
   "source": [
    "def calculator (a ,b, operation):\n",
    "    if operation == \"add\":\n",
    "        return 2+5\n",
    "    elif operation == \"multiply\":\n",
    "        return 2*5 \n",
    "    elif operation == \"divided\":\n",
    "        return 2/5 \n",
    "    elif operation == \"subtract\":\n",
    "        return 2-5\n",
    "    else:\n",
    "        return \"error\"\n",
    "\n",
    "a = 5\n",
    "b = 10\n",
    "\n",
    "print(\"Add:\", calculator(a, b, \"add\"))         \n",
    "print(\"Subtract:\", calculator(a, b, \"subtract\")) \n",
    "print(\"Multiply:\", calculator(a, b, \"multiply\")) \n",
    "print(\"Divide:\", calculator(a, b, \"divide\"))"
   ]
  },
  {
   "cell_type": "code",
   "execution_count": null,
   "id": "0ec0cff6-42dc-4bfc-a19d-1a3f94fe652a",
   "metadata": {},
   "outputs": [],
   "source": []
  }
 ],
 "metadata": {
  "kernelspec": {
   "display_name": "Python [conda env:base] *",
   "language": "python",
   "name": "conda-base-py"
  },
  "language_info": {
   "codemirror_mode": {
    "name": "ipython",
    "version": 3
   },
   "file_extension": ".py",
   "mimetype": "text/x-python",
   "name": "python",
   "nbconvert_exporter": "python",
   "pygments_lexer": "ipython3",
   "version": "3.13.5"
  }
 },
 "nbformat": 4,
 "nbformat_minor": 5
}
